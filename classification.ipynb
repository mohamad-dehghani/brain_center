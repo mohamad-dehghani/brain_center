{
 "cells": [
  {
   "cell_type": "code",
   "execution_count": 216,
   "metadata": {},
   "outputs": [],
   "source": [
    "import pandas as pd\n",
    "import numpy as np\n",
    "import matplotlib.pyplot as plt\n",
    "import re"
   ]
  },
  {
   "cell_type": "code",
   "execution_count": 217,
   "metadata": {},
   "outputs": [],
   "source": [
    "from sklearn.feature_extraction.text import CountVectorizer\n",
    "from sklearn.feature_extraction.text import TfidfVectorizer\n",
    "from sklearn.model_selection import train_test_split"
   ]
  },
  {
   "cell_type": "code",
   "execution_count": 218,
   "metadata": {},
   "outputs": [
    {
     "data": {
      "text/html": [
       "<div>\n",
       "<style scoped>\n",
       "    .dataframe tbody tr th:only-of-type {\n",
       "        vertical-align: middle;\n",
       "    }\n",
       "\n",
       "    .dataframe tbody tr th {\n",
       "        vertical-align: top;\n",
       "    }\n",
       "\n",
       "    .dataframe thead th {\n",
       "        text-align: right;\n",
       "    }\n",
       "</style>\n",
       "<table border=\"1\" class=\"dataframe\">\n",
       "  <thead>\n",
       "    <tr style=\"text-align: right;\">\n",
       "      <th></th>\n",
       "      <th>product_id</th>\n",
       "      <th>product_title</th>\n",
       "      <th>title_en</th>\n",
       "      <th>user_id</th>\n",
       "      <th>likes</th>\n",
       "      <th>dislikes</th>\n",
       "      <th>verification_status</th>\n",
       "      <th>recommend</th>\n",
       "      <th>title</th>\n",
       "      <th>comment</th>\n",
       "      <th>advantages</th>\n",
       "      <th>disadvantages</th>\n",
       "    </tr>\n",
       "  </thead>\n",
       "  <tbody>\n",
       "    <tr>\n",
       "      <th>0</th>\n",
       "      <td>3692</td>\n",
       "      <td>ماوس بی‌سیم لاجیتک مدل M325</td>\n",
       "      <td>IT</td>\n",
       "      <td>989472</td>\n",
       "      <td>0</td>\n",
       "      <td>0</td>\n",
       "      <td>verified</td>\n",
       "      <td>\\N</td>\n",
       "      <td>NaN</td>\n",
       "      <td>واقعا عالیه. من که ازش خیلی راضیم</td>\n",
       "      <td>NaN</td>\n",
       "      <td>NaN</td>\n",
       "    </tr>\n",
       "    <tr>\n",
       "      <th>1</th>\n",
       "      <td>90213</td>\n",
       "      <td>شارژر همراه شیاومی مدل NDY-02-AN با ظرفیت 1000...</td>\n",
       "      <td>AC</td>\n",
       "      <td>3862150</td>\n",
       "      <td>4</td>\n",
       "      <td>1</td>\n",
       "      <td>verified</td>\n",
       "      <td>recommended</td>\n",
       "      <td>واقعاً عالیه</td>\n",
       "      <td>سلام، قبل اینکه نظرم رو بگم میخواستم به یک موض...</td>\n",
       "      <td>[\"عمر طولانی\\r\",\"افت بسیار کم میزان شارژ\\r\",\"ا...</td>\n",
       "      <td>[\"ندارد\"]</td>\n",
       "    </tr>\n",
       "    <tr>\n",
       "      <th>2</th>\n",
       "      <td>59473</td>\n",
       "      <td>یدک پولیشر میکروفایبر مهسان مدل 20119</td>\n",
       "      <td>HW</td>\n",
       "      <td>626843</td>\n",
       "      <td>1</td>\n",
       "      <td>0</td>\n",
       "      <td>verified</td>\n",
       "      <td>not_recommended</td>\n",
       "      <td>خیلی سخت حوله اش در میاد</td>\n",
       "      <td>گیره های فلزی خیلی سخت تا میشوند و لذا حوله را...</td>\n",
       "      <td>NaN</td>\n",
       "      <td>NaN</td>\n",
       "    </tr>\n",
       "    <tr>\n",
       "      <th>3</th>\n",
       "      <td>120499</td>\n",
       "      <td>گوشی موبایل هوآوی آنر مدل 5X KIW-L21 دو سیم‌کارت</td>\n",
       "      <td>MO</td>\n",
       "      <td>786887</td>\n",
       "      <td>6</td>\n",
       "      <td>11</td>\n",
       "      <td>verified</td>\n",
       "      <td>no_idea</td>\n",
       "      <td>گوشی مقرون به صرفه</td>\n",
       "      <td>همه چیز در رابطه با ظاهر این گوشی بسیار خوب اس...</td>\n",
       "      <td>[\"صفحه نمایش پرنور و با کیفیت\\r\",\"کیفیت بالای ...</td>\n",
       "      <td>[\"کیفیت پایین اسپیکر\\r\",\"حاشیه خالی زیر صفحه ن...</td>\n",
       "    </tr>\n",
       "    <tr>\n",
       "      <th>4</th>\n",
       "      <td>67200</td>\n",
       "      <td>شارژر همراه شیائومی مدل Mi ظرفیت 5000 میلی آمپ...</td>\n",
       "      <td>AC</td>\n",
       "      <td>854531</td>\n",
       "      <td>19</td>\n",
       "      <td>4</td>\n",
       "      <td>verified</td>\n",
       "      <td>no_idea</td>\n",
       "      <td>ابعاد، استحکام و نگهداری شارژ مناسب</td>\n",
       "      <td>اگر ظرفیتش براتون کافیه حتما بخرید.\\r\\nیه شارژ...</td>\n",
       "      <td>[\"ظریف و زیبا و باریک\\r\",\"بدنه محکم و با دوام\"]</td>\n",
       "      <td>[\"ظرفیت متوسط\"]</td>\n",
       "    </tr>\n",
       "  </tbody>\n",
       "</table>\n",
       "</div>"
      ],
      "text/plain": [
       "   product_id                                      product_title title_en  \\\n",
       "0        3692                        ماوس بی‌سیم لاجیتک مدل M325       IT   \n",
       "1       90213  شارژر همراه شیاومی مدل NDY-02-AN با ظرفیت 1000...       AC   \n",
       "2       59473              یدک پولیشر میکروفایبر مهسان مدل 20119       HW   \n",
       "3      120499   گوشی موبایل هوآوی آنر مدل 5X KIW-L21 دو سیم‌کارت       MO   \n",
       "4       67200  شارژر همراه شیائومی مدل Mi ظرفیت 5000 میلی آمپ...       AC   \n",
       "\n",
       "   user_id  likes  dislikes verification_status        recommend  \\\n",
       "0   989472      0         0            verified               \\N   \n",
       "1  3862150      4         1            verified      recommended   \n",
       "2   626843      1         0            verified  not_recommended   \n",
       "3   786887      6        11            verified          no_idea   \n",
       "4   854531     19         4            verified          no_idea   \n",
       "\n",
       "                                 title  \\\n",
       "0                                  NaN   \n",
       "1                         واقعاً عالیه   \n",
       "2             خیلی سخت حوله اش در میاد   \n",
       "3                   گوشی مقرون به صرفه   \n",
       "4  ابعاد، استحکام و نگهداری شارژ مناسب   \n",
       "\n",
       "                                             comment  \\\n",
       "0                  واقعا عالیه. من که ازش خیلی راضیم   \n",
       "1  سلام، قبل اینکه نظرم رو بگم میخواستم به یک موض...   \n",
       "2  گیره های فلزی خیلی سخت تا میشوند و لذا حوله را...   \n",
       "3  همه چیز در رابطه با ظاهر این گوشی بسیار خوب اس...   \n",
       "4  اگر ظرفیتش براتون کافیه حتما بخرید.\\r\\nیه شارژ...   \n",
       "\n",
       "                                          advantages  \\\n",
       "0                                                NaN   \n",
       "1  [\"عمر طولانی\\r\",\"افت بسیار کم میزان شارژ\\r\",\"ا...   \n",
       "2                                                NaN   \n",
       "3  [\"صفحه نمایش پرنور و با کیفیت\\r\",\"کیفیت بالای ...   \n",
       "4    [\"ظریف و زیبا و باریک\\r\",\"بدنه محکم و با دوام\"]   \n",
       "\n",
       "                                       disadvantages  \n",
       "0                                                NaN  \n",
       "1                                          [\"ندارد\"]  \n",
       "2                                                NaN  \n",
       "3  [\"کیفیت پایین اسپیکر\\r\",\"حاشیه خالی زیر صفحه ن...  \n",
       "4                                    [\"ظرفیت متوسط\"]  "
      ]
     },
     "execution_count": 218,
     "metadata": {},
     "output_type": "execute_result"
    }
   ],
   "source": [
    "df = pd.read_excel(r\"C:\\Users\\mohamad\\ipm 2\\Digi_2.xlsx\") \n",
    "df.head()"
   ]
  },
  {
   "cell_type": "code",
   "execution_count": 219,
   "metadata": {},
   "outputs": [
    {
     "data": {
      "text/plain": [
       "4427"
      ]
     },
     "execution_count": 219,
     "metadata": {},
     "output_type": "execute_result"
    }
   ],
   "source": [
    "stopwords = []\n",
    "file = open(r\"C:\\Users\\mohamad\\ipm 2\\stopwords-fa.txt\").read()\n",
    "[stopwords.append(x) for x in file.split()]\n",
    "len(stopwords)"
   ]
  },
  {
   "cell_type": "code",
   "execution_count": 220,
   "metadata": {},
   "outputs": [],
   "source": [
    "stopwords = set(stopwords)"
   ]
  },
  {
   "cell_type": "code",
   "execution_count": 221,
   "metadata": {},
   "outputs": [],
   "source": [
    "def remove_stopwords(text):\n",
    "    text=str(text)\n",
    "    filtered_tokens = [token for token in text.split() if token not in stopwords]\n",
    "    filtered_text = ' '.join(filtered_tokens)\n",
    "    return filtered_text"
   ]
  },
  {
   "cell_type": "code",
   "execution_count": 222,
   "metadata": {},
   "outputs": [],
   "source": [
    "df.comment = df.comment.apply(remove_stopwords)"
   ]
  },
  {
   "cell_type": "code",
   "execution_count": 223,
   "metadata": {},
   "outputs": [],
   "source": [
    "df.fillna('unknown', inplace = True)"
   ]
  },
  {
   "cell_type": "code",
   "execution_count": 224,
   "metadata": {},
   "outputs": [],
   "source": [
    "df.recommend = df.recommend.replace({'\\\\N' : 3, 'recommended' : 0, 'not_recommended' : 1, 'no_idea' : 2})"
   ]
  },
  {
   "cell_type": "code",
   "execution_count": 225,
   "metadata": {},
   "outputs": [],
   "source": [
    "df = df[df.recommend != 3]"
   ]
  },
  {
   "cell_type": "code",
   "execution_count": 226,
   "metadata": {},
   "outputs": [],
   "source": [
    "X = df.comment.astype(str)\n",
    "y = df.recommend"
   ]
  },
  {
   "cell_type": "code",
   "execution_count": 227,
   "metadata": {},
   "outputs": [],
   "source": [
    "X_train, X_test, y_train, y_test = train_test_split(X, y, test_size=0.25, random_state=1000)"
   ]
  },
  {
   "cell_type": "code",
   "execution_count": 228,
   "metadata": {},
   "outputs": [],
   "source": [
    "vectorizer = CountVectorizer(min_df = 1, lowercase = False) #AttributeError: 'int' object has no attribute 'lower'"
   ]
  },
  {
   "cell_type": "code",
   "execution_count": 229,
   "metadata": {},
   "outputs": [
    {
     "data": {
      "text/plain": [
       "CountVectorizer(analyzer='word', binary=False, decode_error='strict',\n",
       "                dtype=<class 'numpy.int64'>, encoding='utf-8', input='content',\n",
       "                lowercase=False, max_df=1.0, max_features=None, min_df=1,\n",
       "                ngram_range=(1, 1), preprocessor=None, stop_words=None,\n",
       "                strip_accents=None, token_pattern='(?u)\\\\b\\\\w\\\\w+\\\\b',\n",
       "                tokenizer=None, vocabulary=None)"
      ]
     },
     "execution_count": 229,
     "metadata": {},
     "output_type": "execute_result"
    }
   ],
   "source": [
    "vectorizer.fit(X_train)"
   ]
  },
  {
   "cell_type": "code",
   "execution_count": 230,
   "metadata": {},
   "outputs": [],
   "source": [
    "X_train = vectorizer.transform(X_train)\n",
    "X_test  = vectorizer.transform(X_test)"
   ]
  },
  {
   "cell_type": "code",
   "execution_count": 231,
   "metadata": {},
   "outputs": [
    {
     "name": "stderr",
     "output_type": "stream",
     "text": [
      "c:\\users\\mohamad\\appdata\\local\\programs\\python\\python37\\lib\\site-packages\\sklearn\\linear_model\\logistic.py:432: FutureWarning: Default solver will be changed to 'lbfgs' in 0.22. Specify a solver to silence this warning.\n",
      "  FutureWarning)\n",
      "c:\\users\\mohamad\\appdata\\local\\programs\\python\\python37\\lib\\site-packages\\sklearn\\linear_model\\logistic.py:469: FutureWarning: Default multi_class will be changed to 'auto' in 0.22. Specify the multi_class option to silence this warning.\n",
      "  \"this warning.\", FutureWarning)\n"
     ]
    },
    {
     "data": {
      "text/plain": [
       "0.7618987739704496"
      ]
     },
     "execution_count": 231,
     "metadata": {},
     "output_type": "execute_result"
    }
   ],
   "source": [
    "from sklearn.linear_model import LogisticRegression\n",
    "\n",
    "classifier = LogisticRegression()\n",
    "classifier.fit(X_train, y_train)\n",
    "classifier.score(X_test, y_test)"
   ]
  },
  {
   "cell_type": "markdown",
   "metadata": {},
   "source": [
    "### deep"
   ]
  },
  {
   "cell_type": "code",
   "execution_count": 232,
   "metadata": {},
   "outputs": [],
   "source": [
    "from keras.models import Sequential\n",
    "from keras import layers"
   ]
  },
  {
   "cell_type": "code",
   "execution_count": 233,
   "metadata": {},
   "outputs": [],
   "source": [
    "input_dim = X_train.shape[1]"
   ]
  },
  {
   "cell_type": "code",
   "execution_count": 235,
   "metadata": {},
   "outputs": [],
   "source": [
    "from keras.utils import to_categorical\n",
    "y_train = to_categorical(y_train)\n",
    "y_test = to_categorical(y_test)"
   ]
  },
  {
   "cell_type": "code",
   "execution_count": 240,
   "metadata": {},
   "outputs": [],
   "source": [
    "model = Sequential()\n",
    "model.add(layers.Dense(25, input_dim=input_dim, activation='relu'))\n",
    "model.add(layers.Dense(10, activation='relu'))\n",
    "model.add(layers.Dense(3, activation='softmax'))"
   ]
  },
  {
   "cell_type": "code",
   "execution_count": 241,
   "metadata": {},
   "outputs": [
    {
     "name": "stdout",
     "output_type": "stream",
     "text": [
      "_________________________________________________________________\n",
      "Layer (type)                 Output Shape              Param #   \n",
      "=================================================================\n",
      "dense_25 (Dense)             (None, 25)                1007725   \n",
      "_________________________________________________________________\n",
      "dense_26 (Dense)             (None, 10)                260       \n",
      "_________________________________________________________________\n",
      "dense_27 (Dense)             (None, 3)                 33        \n",
      "=================================================================\n",
      "Total params: 1,008,018\n",
      "Trainable params: 1,008,018\n",
      "Non-trainable params: 0\n",
      "_________________________________________________________________\n"
     ]
    }
   ],
   "source": [
    "model.compile(loss='categorical_crossentropy', \n",
    "              optimizer='adam', \n",
    "              metrics=['accuracy'])\n",
    "model.summary()"
   ]
  },
  {
   "cell_type": "code",
   "execution_count": 242,
   "metadata": {},
   "outputs": [
    {
     "name": "stdout",
     "output_type": "stream",
     "text": [
      "Train on 47713 samples, validate on 15905 samples\n",
      "Epoch 1/10\n",
      "47713/47713 [==============================] - 30s 626us/step - loss: 0.6747 - acc: 0.7402 - val_loss: 0.5993 - val_acc: 0.7682\n",
      "Epoch 2/10\n",
      "47713/47713 [==============================] - 27s 571us/step - loss: 0.4792 - acc: 0.8178 - val_loss: 0.6044 - val_acc: 0.7659\n",
      "Epoch 3/10\n",
      "47713/47713 [==============================] - 27s 568us/step - loss: 0.3701 - acc: 0.8644 - val_loss: 0.6620 - val_acc: 0.7588\n",
      "Epoch 4/10\n",
      "47713/47713 [==============================] - 28s 577us/step - loss: 0.2784 - acc: 0.9025 - val_loss: 0.7680 - val_acc: 0.7439\n",
      "Epoch 5/10\n",
      "47713/47713 [==============================] - 27s 565us/step - loss: 0.2106 - acc: 0.9277 - val_loss: 0.8846 - val_acc: 0.7431\n",
      "Epoch 6/10\n",
      "47713/47713 [==============================] - 27s 571us/step - loss: 0.1620 - acc: 0.9458 - val_loss: 1.0055 - val_acc: 0.7403\n",
      "Epoch 7/10\n",
      "47713/47713 [==============================] - 27s 566us/step - loss: 0.1267 - acc: 0.9597 - val_loss: 1.1558 - val_acc: 0.7378\n",
      "Epoch 8/10\n",
      "47713/47713 [==============================] - 27s 569us/step - loss: 0.1044 - acc: 0.9671 - val_loss: 1.2782 - val_acc: 0.7299\n",
      "Epoch 9/10\n",
      "47713/47713 [==============================] - 27s 566us/step - loss: 0.0874 - acc: 0.9728 - val_loss: 1.3999 - val_acc: 0.7222\n",
      "Epoch 10/10\n",
      "47713/47713 [==============================] - 27s 565us/step - loss: 0.0747 - acc: 0.9768 - val_loss: 1.5685 - val_acc: 0.7145\n"
     ]
    }
   ],
   "source": [
    "history = model.fit(X_train, y_train,\n",
    "                    epochs = 10,\n",
    "                    verbose = True,\n",
    "                    validation_data = (X_test, y_test),\n",
    "                    batch_size = 64)"
   ]
  },
  {
   "cell_type": "code",
   "execution_count": 243,
   "metadata": {},
   "outputs": [
    {
     "name": "stdout",
     "output_type": "stream",
     "text": [
      "Training Accuracy: 0.9822\n"
     ]
    }
   ],
   "source": [
    "loss, accuracy = model.evaluate(X_train, y_train, verbose=False)\n",
    "print(\"Training Accuracy: {:.4f}\".format(accuracy))"
   ]
  },
  {
   "cell_type": "code",
   "execution_count": 244,
   "metadata": {},
   "outputs": [
    {
     "name": "stdout",
     "output_type": "stream",
     "text": [
      "Testing Accuracy:  0.7145\n"
     ]
    }
   ],
   "source": [
    "loss, accuracy = model.evaluate(X_test, y_test, verbose=False)\n",
    "print(\"Testing Accuracy:  {:.4f}\".format(accuracy))"
   ]
  },
  {
   "cell_type": "code",
   "execution_count": 245,
   "metadata": {},
   "outputs": [],
   "source": [
    "import matplotlib.pyplot as plt\n",
    "plt.style.use('ggplot')\n",
    "\n",
    "def plot_history(history):\n",
    "    acc = history.history['acc']\n",
    "    val_acc = history.history['val_acc']\n",
    "    loss = history.history['loss']\n",
    "    val_loss = history.history['val_loss']\n",
    "    x = range(1, len(acc) + 1)\n",
    "\n",
    "    plt.figure(figsize=(12, 5))\n",
    "    plt.subplot(1, 2, 1)\n",
    "    plt.plot(x, acc, 'b', label='Training acc')\n",
    "    plt.plot(x, val_acc, 'r', label='Validation acc')\n",
    "    plt.title('Training and validation accuracy')\n",
    "    plt.legend()\n",
    "    plt.subplot(1, 2, 2)\n",
    "    plt.plot(x, loss, 'b', label='Training loss')\n",
    "    plt.plot(x, val_loss, 'r', label='Validation loss')\n",
    "    plt.title('Training and validation loss')\n",
    "    plt.legend()"
   ]
  },
  {
   "cell_type": "code",
   "execution_count": 246,
   "metadata": {},
   "outputs": [
    {
     "data": {
      "image/png": "[encoded data removed]",
      "text/plain": [
       "<Figure size 864x360 with 2 Axes>"
      ]
     },
     "metadata": {},
     "output_type": "display_data"
    }
   ],
   "source": [
    "plot_history(history)"
   ]
  },
  {
   "cell_type": "code",
   "execution_count": null,
   "metadata": {},
   "outputs": [],
   "source": []
  },
  {
   "cell_type": "code",
   "execution_count": null,
   "metadata": {},
   "outputs": [],
   "source": []
  }
 ],
 "metadata": {
  "kernelspec": {
   "display_name": "Python 3",
   "language": "python",
   "name": "python3"
  },
  "language_info": {
   "codemirror_mode": {
    "name": "ipython",
    "version": 3
   },
   "file_extension": ".py",
   "mimetype": "text/x-python",
   "name": "python",
   "nbconvert_exporter": "python",
   "pygments_lexer": "ipython3",
   "version": "3.7.9"
  }
 },
 "nbformat": 4,
 "nbformat_minor": 2
}
